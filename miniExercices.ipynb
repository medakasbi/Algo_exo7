{
 "cells": [
  {
   "cell_type": "code",
   "execution_count": 25,
   "metadata": {},
   "outputs": [],
   "source": [
    "import random"
   ]
  },
  {
   "cell_type": "code",
   "execution_count": 16,
   "metadata": {},
   "outputs": [],
   "source": [
    "def sommeComplementaires(n):\n",
    "    somme = 1\n",
    "    for i in range (2, n+1):\n",
    "        somme *= (1 - 1/i)\n",
    "        #print(somme)\n",
    "    return somme"
   ]
  },
  {
   "cell_type": "code",
   "execution_count": 17,
   "metadata": {},
   "outputs": [
    {
     "name": "stdout",
     "output_type": "stream",
     "text": [
      "0.5\n",
      "0.33333333333333337\n",
      "0.25\n",
      "0.2\n",
      "0.16666666666666669\n",
      "0.14285714285714288\n",
      "0.12500000000000003\n",
      "0.11111111111111113\n",
      "0.10000000000000002\n"
     ]
    },
    {
     "data": {
      "text/plain": [
       "0.10000000000000002"
      ]
     },
     "execution_count": 17,
     "metadata": {},
     "output_type": "execute_result"
    }
   ],
   "source": [
    "sommeComplementaires(10)"
   ]
  },
  {
   "cell_type": "code",
   "execution_count": 19,
   "metadata": {},
   "outputs": [
    {
     "name": "stdout",
     "output_type": "stream",
     "text": [
      "45\n"
     ]
    }
   ],
   "source": [
    "sum = 0\n",
    "for i in range(1, 10):\n",
    "    sum += i \n",
    "print(sum)"
   ]
  },
  {
   "cell_type": "code",
   "execution_count": 20,
   "metadata": {},
   "outputs": [
    {
     "name": "stdout",
     "output_type": "stream",
     "text": [
      "55\n"
     ]
    }
   ],
   "source": [
    "sum = 0\n",
    "for i in range(1, 11):\n",
    "    sum += i \n",
    "print(sum)"
   ]
  },
  {
   "cell_type": "code",
   "execution_count": 22,
   "metadata": {},
   "outputs": [
    {
     "name": "stdout",
     "output_type": "stream",
     "text": [
      "1\n",
      "4\n",
      "9\n",
      "16\n",
      "25\n"
     ]
    }
   ],
   "source": [
    "sum = 0\n",
    "for i in range(1, 10, 2):\n",
    "    sum += i \n",
    "    print(sum)"
   ]
  },
  {
   "cell_type": "code",
   "execution_count": 32,
   "metadata": {},
   "outputs": [
    {
     "name": "stdout",
     "output_type": "stream",
     "text": [
      "0.5239562\n",
      "0.5239562\n"
     ]
    }
   ],
   "source": [
    "tirs = 0\n",
    "nbTirsDansLaSphere = 0\n",
    "n = 10000000\n",
    "for _ in range(n):\n",
    "    x= random.random()\n",
    "    y = random.random()\n",
    "    z = random.random()\n",
    "    if(x**2 + y**2 + z**2)<1:\n",
    "        nbTirsDansLaSphere +=1\n",
    "    tirs += 1\n",
    "print(nbTirsDansLaSphere/n)\n",
    "print(nbTirsDansLaSphere/tirs)"
   ]
  },
  {
   "cell_type": "code",
   "execution_count": 34,
   "metadata": {},
   "outputs": [
    {
     "name": "stdout",
     "output_type": "stream",
     "text": [
      "0.5233068\n",
      "0.5233068\n"
     ]
    }
   ],
   "source": [
    "tirs = 0\n",
    "nbTirsDansLaSphere = 0\n",
    "n = 10000000\n",
    "\n",
    "while (tirs<n):\n",
    "    x= random.random()\n",
    "    y = random.random()\n",
    "    z = random.random()\n",
    "    if(x**2 + y**2 + z**2)<1:\n",
    "        nbTirsDansLaSphere +=1\n",
    "    tirs += 1\n",
    "print(nbTirsDansLaSphere/n)\n",
    "print(nbTirsDansLaSphere/tirs)"
   ]
  },
  {
   "cell_type": "code",
   "execution_count": null,
   "metadata": {},
   "outputs": [],
   "source": [
    "from os import pread\n",
    "\n",
    "\n",
    "lancer = 0\n",
    "nbDeLancers = n\n",
    "while (lancer < nbDeLancers):\n",
    "    premierDe = random.randint(1, 6)\n",
    "    secondDe = random.randint(1, 6)\n",
    "    if (premierDe + secondDe) = 7:\n",
    "        n\n"
   ]
  }
 ],
 "metadata": {
  "kernelspec": {
   "display_name": "Python 3.10.5 64-bit",
   "language": "python",
   "name": "python3"
  },
  "language_info": {
   "codemirror_mode": {
    "name": "ipython",
    "version": 3
   },
   "file_extension": ".py",
   "mimetype": "text/x-python",
   "name": "python",
   "nbconvert_exporter": "python",
   "pygments_lexer": "ipython3",
   "version": "3.10.5"
  },
  "orig_nbformat": 4,
  "vscode": {
   "interpreter": {
    "hash": "b98f3443e6ca3d3ca98e540930ca10665b0b96d9ae1d82db1255623d84501ce5"
   }
  }
 },
 "nbformat": 4,
 "nbformat_minor": 2
}
