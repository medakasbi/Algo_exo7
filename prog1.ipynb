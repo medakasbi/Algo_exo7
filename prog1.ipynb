{
 "cells": [
  {
   "cell_type": "code",
   "execution_count": 2,
   "id": "5cdf1900",
   "metadata": {},
   "outputs": [],
   "source": [
    "def sommeCube(n):\n",
    "\treturn  (n**2 * (n+1)**2)//4"
   ]
  },
  {
   "cell_type": "code",
   "execution_count": 3,
   "id": "f14ff8e8",
   "metadata": {},
   "outputs": [],
   "source": [
    "def sommeCube2(n):\n",
    "\tsomme= 0\n",
    "\tfor i in range(1, n+1):\n",
    "\t\tsomme += i**3\n",
    "\n",
    "\treturn somme\n",
    "\n"
   ]
  },
  {
   "cell_type": "code",
   "execution_count": 4,
   "id": "8807dc4e",
   "metadata": {},
   "outputs": [],
   "source": [
    "def sommeSimple(n):\n",
    "\tsomme= 0\n",
    "\tfor i in range(1, n+1):\n",
    "\t\tsomme += i\n",
    "\n",
    "\treturn somme\n",
    "\n",
    "\t\n"
   ]
  },
  {
   "cell_type": "code",
   "execution_count": 5,
   "id": "fe80fdd4",
   "metadata": {},
   "outputs": [
    {
     "data": {
      "text/plain": [
       "9"
      ]
     },
     "execution_count": 5,
     "metadata": {},
     "output_type": "execute_result"
    }
   ],
   "source": [
    "sommeCube(2)"
   ]
  },
  {
   "cell_type": "code",
   "execution_count": 6,
   "id": "4f8189fc",
   "metadata": {},
   "outputs": [
    {
     "data": {
      "text/plain": [
       "9"
      ]
     },
     "execution_count": 6,
     "metadata": {},
     "output_type": "execute_result"
    }
   ],
   "source": [
    "sommeCube2(2)"
   ]
  },
  {
   "cell_type": "code",
   "execution_count": 7,
   "id": "2e497f56",
   "metadata": {},
   "outputs": [
    {
     "data": {
      "text/plain": [
       "6"
      ]
     },
     "execution_count": 7,
     "metadata": {},
     "output_type": "execute_result"
    }
   ],
   "source": [
    "sommeSimple(3)"
   ]
  },
  {
   "cell_type": "code",
   "execution_count": 8,
   "id": "5234f385",
   "metadata": {},
   "outputs": [
    {
     "name": "stdout",
     "output_type": "stream",
     "text": [
      "Tout va au mieux.\n",
      "Tout va au mieux.\n",
      "Tout va au mieux.\n",
      "Tout va au mieux.\n",
      "Tout va au mieux.\n",
      "Tout va au mieux.\n",
      "Tout va au mieux.\n",
      "Tout va au mieux.\n",
      "Tout va au mieux.\n",
      "Tout va au mieux.\n",
      "Tout va au mieux.\n",
      "Tout va au mieux.\n",
      "Tout va au mieux.\n",
      "Tout va au mieux.\n",
      "Tout va au mieux.\n",
      "Tout va au mieux.\n",
      "Tout va au mieux.\n",
      "Tout va au mieux.\n",
      "Tout va au mieux.\n",
      "Tout va au mieux.\n",
      "Tout va au mieux.\n",
      "Tout va au mieux.\n",
      "Tout va au mieux.\n",
      "Tout va au mieux.\n",
      "Tout va au mieux.\n",
      "Tout va au mieux.\n",
      "Tout va au mieux.\n",
      "Tout va au mieux.\n",
      "Tout va au mieux.\n",
      "Tout va au mieux.\n",
      "Tout va au mieux.\n",
      "Tout va au mieux.\n",
      "Tout va au mieux.\n",
      "Tout va au mieux.\n",
      "Tout va au mieux.\n",
      "Tout va au mieux.\n",
      "Tout va au mieux.\n",
      "Tout va au mieux.\n",
      "Tout va au mieux.\n",
      "Tout va au mieux.\n",
      "Tout va au mieux.\n",
      "Tout va au mieux.\n",
      "Tout va au mieux.\n",
      "Tout va au mieux.\n",
      "Tout va au mieux.\n",
      "Tout va au mieux.\n",
      "Tout va au mieux.\n",
      "Tout va au mieux.\n",
      "Tout va au mieux.\n",
      "Tout va au mieux.\n",
      "Tout va au mieux.\n",
      "Tout va au mieux.\n",
      "Tout va au mieux.\n",
      "Tout va au mieux.\n",
      "Tout va au mieux.\n",
      "Tout va au mieux.\n",
      "Tout va au mieux.\n",
      "Tout va au mieux.\n",
      "Tout va au mieux.\n",
      "Tout va au mieux.\n",
      "Tout va au mieux.\n",
      "Tout va au mieux.\n",
      "Tout va au mieux.\n",
      "Tout va au mieux.\n",
      "Tout va au mieux.\n",
      "Tout va au mieux.\n",
      "Tout va au mieux.\n",
      "Tout va au mieux.\n",
      "Tout va au mieux.\n",
      "Tout va au mieux.\n",
      "Tout va au mieux.\n",
      "Tout va au mieux.\n",
      "Tout va au mieux.\n",
      "Tout va au mieux.\n",
      "Tout va au mieux.\n",
      "Tout va au mieux.\n",
      "Tout va au mieux.\n",
      "Tout va au mieux.\n",
      "Tout va au mieux.\n",
      "Tout va au mieux.\n",
      "Tout va au mieux.\n",
      "Tout va au mieux.\n",
      "Tout va au mieux.\n",
      "Tout va au mieux.\n",
      "Tout va au mieux.\n",
      "Tout va au mieux.\n",
      "Tout va au mieux.\n",
      "Tout va au mieux.\n",
      "Tout va au mieux.\n",
      "Tout va au mieux.\n",
      "Tout va au mieux.\n",
      "Tout va au mieux.\n",
      "Tout va au mieux.\n",
      "Tout va au mieux.\n",
      "Tout va au mieux.\n",
      "Tout va au mieux.\n",
      "Tout va au mieux.\n",
      "Tout va au mieux.\n",
      "Tout va au mieux.\n",
      "Tout va au mieux.\n"
     ]
    }
   ],
   "source": [
    "for i in range(100):\n",
    "    if sommeCube2(i) != sommeSimple(i) ** 2:\n",
    "        print(\"Il y' a probleme au rang \", i)\n",
    "    else: print(\"Tout va au mieux.\")"
   ]
  },
  {
   "cell_type": "code",
   "execution_count": null,
   "id": "a2b40846",
   "metadata": {},
   "outputs": [],
   "source": []
  }
 ],
 "metadata": {
  "kernelspec": {
   "display_name": "Python 3 (ipykernel)",
   "language": "python",
   "name": "python3"
  },
  "language_info": {
   "codemirror_mode": {
    "name": "ipython",
    "version": 3
   },
   "file_extension": ".py",
   "mimetype": "text/x-python",
   "name": "python",
   "nbconvert_exporter": "python",
   "pygments_lexer": "ipython3",
   "version": "3.9.13"
  }
 },
 "nbformat": 4,
 "nbformat_minor": 5
}
