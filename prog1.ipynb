{
 "cells": [
  {
   "cell_type": "code",
   "execution_count": null,
   "id": "5cdf1900",
   "metadata": {},
   "outputs": [],
   "source": [
    "def sommeCube(n):\n",
    "\treturn  (n**2 * (n+1)**2)//4"
   ]
  },
  {
   "cell_type": "code",
   "execution_count": null,
   "id": "f14ff8e8",
   "metadata": {},
   "outputs": [],
   "source": [
    "def sommeCube2(n):\n",
    "\tsomme= 0\n",
    "\tfor i in range(1, n+1):\n",
    "\t\tsomme += i**3\n",
    "\n",
    "\treturn somme\n",
    "\n"
   ]
  },
  {
   "cell_type": "code",
   "execution_count": null,
   "id": "8807dc4e",
   "metadata": {},
   "outputs": [],
   "source": [
    "def sommeSimple(n):\n",
    "\tsomme= 0\n",
    "\tfor i in range(1, n+1):\n",
    "\t\tsomme += i\n",
    "\n",
    "\treturn somme\n",
    "\n",
    "\t\n"
   ]
  },
  {
   "cell_type": "code",
   "execution_count": null,
   "id": "fe80fdd4",
   "metadata": {},
   "outputs": [],
   "source": [
    "sommeCube(2)"
   ]
  },
  {
   "cell_type": "code",
   "execution_count": null,
   "id": "4f8189fc",
   "metadata": {},
   "outputs": [],
   "source": [
    "sommeCube2(2)"
   ]
  },
  {
   "cell_type": "code",
   "execution_count": null,
   "id": "2e497f56",
   "metadata": {},
   "outputs": [],
   "source": [
    "sommeSimple(3)"
   ]
  },
  {
   "cell_type": "code",
   "execution_count": null,
   "id": "5234f385",
   "metadata": {},
   "outputs": [],
   "source": [
    "for i in range(100):\n",
    "    if sommeCube2(i) != sommeSimple(i) ** 2:\n",
    "        print(\"Il y' a probleme au rang \", i)\n",
    "    else: print(\"Tout va au mieux.\")"
   ]
  },
  {
   "cell_type": "code",
   "execution_count": null,
   "id": "a2b40846",
   "metadata": {},
   "outputs": [],
   "source": [
    "import random\n",
    "\n",
    "\n",
    "tir = 1\n",
    "NbTirsDqnsLeDisque = 0\n",
    "\n",
    "while (tir < 100000):\n",
    "    tir += 1\n",
    "    # On tire au hasard un point du quart de carre [0, 1] * [0,1]\n",
    "    x = random.random()\n",
    "    y = random.random()\n",
    "    # On compte le nombre de fois ou l'on est dans le disque.\n",
    "    if (x**2 + y**2 <= 1):\n",
    "        NbTirsDqnsLeDisque += 1\n",
    "\n",
    "\"\"\" la probabilite que le point tire au hasard soit dans\n",
    "le quart  du disque est egale a l'aire du quart du \n",
    "cercle sur l'aire du carre soit pi/4.\n",
    "\n",
    "\"\"\"\n",
    "\n",
    "pi = 4*NbTirsDqnsLeDisque / tir\n",
    "print(\"Valeur experimentale de pi : %0.3f\" %pi)"
   ]
  }
 ],
 "metadata": {
  "kernelspec": {
   "display_name": "Python 3.10.5 64-bit",
   "language": "python",
   "name": "python3"
  },
  "language_info": {
   "codemirror_mode": {
    "name": "ipython",
    "version": 3
   },
   "file_extension": ".py",
   "mimetype": "text/x-python",
   "name": "python",
   "nbconvert_exporter": "python",
   "pygments_lexer": "ipython3",
   "version": "3.10.5"
  },
  "vscode": {
   "interpreter": {
    "hash": "b98f3443e6ca3d3ca98e540930ca10665b0b96d9ae1d82db1255623d84501ce5"
   }
  }
 },
 "nbformat": 4,
 "nbformat_minor": 5
}
